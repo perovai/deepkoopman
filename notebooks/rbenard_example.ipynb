{
 "cells": [
  {
   "cell_type": "code",
   "execution_count": 1,
   "metadata": {},
   "outputs": [],
   "source": [
    "import numpy as np\n",
    "import sys\n",
    "from pathlib import Path\n",
    "sys.path.append(str(Path().resolve().parent))\n",
    "from matplotlib import cm\n",
    "import matplotlib.pyplot as plt\n",
    "\n",
    "from addict import Dict\n",
    "from aiphysim.trainer import Trainer\n",
    "\n",
    "from aiphysim.utils import (\n",
    "    load_opts,\n",
    "    make_output_dir,\n",
    "    resolve\n",
    ")"
   ]
  },
  {
   "cell_type": "code",
   "execution_count": null,
   "metadata": {},
   "outputs": [],
   "source": [
    "# train\n",
    "opts = load_opts(\"/home/mila/o/oussama.boussif/deepkoopman/config/defaults.yaml\",  \"rbenard\", \"/home/mila/o/oussama.boussif/deepkoopman/config/tasks/rbenard.yaml\")\n",
    "opts.output_path = make_output_dir(opts.output_path, dev=False)\n",
    "trainer = Trainer(opts)\n",
    "trainer.setup()\n",
    "trainer.train()"
   ]
  }
 ],
 "metadata": {
  "kernelspec": {
   "display_name": "dedalus",
   "language": "python",
   "name": "dedalus"
  }
 },
 "nbformat": 4,
 "nbformat_minor": 2
}
