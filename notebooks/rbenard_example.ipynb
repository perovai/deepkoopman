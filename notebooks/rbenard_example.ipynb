{
 "cells": [
  {
   "cell_type": "code",
   "execution_count": 1,
   "metadata": {},
   "outputs": [],
   "source": [
    "import numpy as np\n",
    "import sys\n",
    "from pathlib import Path\n",
    "sys.path.append(str(Path().resolve().parent))\n",
    "from matplotlib import cm\n",
    "import matplotlib.pyplot as plt\n",
    "\n",
    "from addict import Dict\n",
    "from aiphysim.trainer import Trainer\n",
    "\n",
    "from aiphysim.utils import (\n",
    "    load_opts,\n",
    "    make_output_dir,\n",
    "    resolve\n",
    ")"
   ]
  },
  {
   "cell_type": "code",
   "execution_count": null,
   "metadata": {},
   "outputs": [
    {
     "name": "stdout",
     "output_type": "stream",
     "text": [
      "Loading default parameters from /home/mila/o/oussama.boussif/deepkoopman/config/defaults.yaml\n",
      "Updating default parameters from /home/mila/o/oussama.boussif/deepkoopman/config/tasks/rbenard.yaml\n",
      "Using output directory: /home/mila/o/oussama.boussif/deepkoopman/notebooks/runs/v0-loving-hodgkin\n",
      "\n",
      "Found 696 samples in the train dataset\n",
      "Found 195 samples in the val dataset\n",
      "Found 97 samples in the test dataset\n",
      "\n",
      "Using GPU: cuda\n",
      "\n",
      "Model parameters use 0.0229 GB\n",
      "Number of parameters:\n",
      "  • conv_in        : 7456\n",
      "  • conv_out       : 31040\n",
      "  • conv_mid       : 2099712\n",
      "  • down_modules   : 2800416\n",
      "  • up_modules     : 785760\n",
      "  • down_pools     : 0\n",
      "  • up_interps     : 0\n",
      "total              : 5724384\n",
      "\n",
      ">>> Starting training\n",
      ">>> Error in loss reconstruction for func mse with weight 1.0\n",
      "\n",
      "Traceback (most recent call last):\n",
      "  File \"/home/mila/o/oussama.boussif/deepkoopman/aiphysim/losses.py\", line 105, in compute\n",
      "    losses[loss_name] = loss(*loss_args)\n",
      "  File \"/home/mila/o/oussama.boussif/deepkoopman/aiphysim/losses.py\", line 21, in mse\n",
      "    return torch.nn.functional.mse_loss(reconstruction, state)\n",
      "  File \"/home/mila/o/oussama.boussif/.conda/envs/dedalus/lib/python3.8/site-packages/torch/nn/functional.py\", line 3079, in mse_loss\n",
      "    if not (target.size() == input.size()):\n",
      "AttributeError: 'list' object has no attribute 'size'\n",
      "\n"
     ]
    }
   ],
   "source": [
    "# train\n",
    "opts = load_opts(\"/home/mila/o/oussama.boussif/deepkoopman/config/defaults.yaml\",  \"rbenard\", \"/home/mila/o/oussama.boussif/deepkoopman/config/tasks/rbenard.yaml\")\n",
    "opts.output_path = make_output_dir(opts.output_path, dev=False)\n",
    "trainer = Trainer(opts)\n",
    "trainer.setup()\n",
    "trainer.train()\n"
   ]
  },
  {
   "cell_type": "code",
   "execution_count": 3,
   "metadata": {},
   "outputs": [
    {
     "data": {
      "text/plain": [
       "{'dataset_type': 'spacetime',\n",
       " 'model_type': '3dunet',\n",
       " 'num_complex_pairs': {'discrete': 0},\n",
       " 'num_real': {'discrete': 2},\n",
       " 'width_omega_complex': {'discrete': [10, 10, 10]},\n",
       " 'widths_omega_real': {'discrete': [10, 10, 10]},\n",
       " 'encoder_widths': {'discrete': [30, 30]},\n",
       " 'decoder_widths': {'discrete': [30, 30]},\n",
       " 'num_shifts': {'discrete': 30},\n",
       " 'num_shifts_middle': {'discrete': 50},\n",
       " 'hidden_layers': {'discrete': 2,\n",
       "  'pendulum': 2,\n",
       "  'attractor': 2,\n",
       "  'fluidbox': 2},\n",
       " 'hidden_dim': {'discrete': 128,\n",
       "  'pendulum': 128,\n",
       "  'fluidbox': 128,\n",
       "  'attractor': 128},\n",
       " 'hidden_layers_aux': {'discrete': 1,\n",
       "  'pendulum': 1,\n",
       "  'fluidbox': 1,\n",
       "  'attractor': 1},\n",
       " 'hidden_dim_aux': {'discrete': 64,\n",
       "  'pendulum': 64,\n",
       "  'fluidbox': 64,\n",
       "  'attractor': 64},\n",
       " 'latent_dim': {'discrete': 2, 'pendulum': 3, 'fluidbox': 3, 'attractor': 3},\n",
       " 'loss_type': '3dunet',\n",
       " 'losses': ['reconstruction'],\n",
       " 'weights': {'reconstruction': 1},\n",
       " 'limit': {'train': -1, 'val': -1, 'test': -1},\n",
       " 'output_path': PosixPath('/home/mila/o/oussama.boussif/deepkoopman/notebooks/runs/v0-elastic-turing'),\n",
       " 'batch_size': 64,\n",
       " 'workers': 4,\n",
       " 'epochs': 20,\n",
       " 'optimizer': {'name': 'adam', 'lr': 0.0001, 'scheduler': 'plateau'},\n",
       " 'dropout': 0.3,\n",
       " 'comet': {'use': True, 'project_name': 'aiphysim'},\n",
       " 'early': {'patience': 10, 'min_delta': 0.0},\n",
       " 'val_trajectories': {'n': 20, 'length': -1, 'n_per_plot': 10},\n",
       " 'metric_type': '3dunet',\n",
       " 'metrics': ['reconstruction'],\n",
       " 'data_folder': '/network/projects/_groups/aiphysim_users/dedalus_data/snap_Pr_3_Ra_100000',\n",
       " 'dataset_file': 'snapshots.h5',\n",
       " 'ratio': {'train': 0.7, 'val': 0.2},\n",
       " 'normalize': True,\n",
       " 'timesteps': 4,\n",
       " 'in_features': 4,\n",
       " 'out_features': 32,\n",
       " 'igres': [4, 32, 32],\n",
       " 'ogres': None,\n",
       " 'nf': 16,\n",
       " 'mf': 512}"
      ]
     },
     "execution_count": 3,
     "metadata": {},
     "output_type": "execute_result"
    }
   ],
   "source": [
    "opts"
   ]
  },
  {
   "cell_type": "code",
   "execution_count": null,
   "metadata": {},
   "outputs": [],
   "source": []
  }
 ],
 "metadata": {
  "kernelspec": {
   "display_name": "dedalus",
   "language": "python",
   "name": "dedalus"
  }
 },
 "nbformat": 4,
 "nbformat_minor": 2
}
