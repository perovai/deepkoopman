{
 "cells": [
  {
   "cell_type": "code",
   "execution_count": 1,
   "metadata": {},
   "outputs": [],
   "source": [
    "import numpy as np\n",
    "import sys\n",
    "from pathlib import Path\n",
    "sys.path.append(str(Path().resolve().parent))\n",
    "from matplotlib import cm\n",
    "import matplotlib.pyplot as plt\n",
    "\n",
    "from addict import Dict\n",
    "from aiphysim.trainer import Trainer\n",
    "\n",
    "from aiphysim.utils import (\n",
    "    load_opts,\n",
    "    make_output_dir,\n",
    "    resolve\n",
    ")"
   ]
  },
  {
   "cell_type": "code",
   "execution_count": null,
   "metadata": {},
   "outputs": [
    {
     "name": "stdout",
     "output_type": "stream",
     "text": [
      "Loading default parameters from /home/mila/o/oussama.boussif/deepkoopman/config/defaults.yaml\n",
      "Updating default parameters from /home/mila/o/oussama.boussif/deepkoopman/config/tasks/rbenard.yaml\n",
      "Using output directory: /home/mila/o/oussama.boussif/deepkoopman/notebooks/runs/v0-friendly-khorana\n",
      "\n",
      "Found 556 samples in the train dataset\n",
      "Found 155 samples in the val dataset\n",
      "Found 77 samples in the test dataset\n",
      "\n",
      "Using GPU: cuda\n",
      "\n",
      "Model parameters use 0.0229 GB\n",
      "Number of parameters:\n",
      "  • conv_in        : 7456\n",
      "  • conv_out       : 28932\n",
      "  • conv_mid       : 2099712\n",
      "  • down_modules   : 2800416\n",
      "  • up_modules     : 785760\n",
      "  • down_pools     : 0\n",
      "  • up_interps     : 0\n",
      "total              : 5722276\n",
      "\n",
      ">>> Starting training\n",
      "[17:03:02  1.15s/b]    32  32/35   1/20 | total: 0.10670 | reconstruction: 0.10670\r"
     ]
    }
   ],
   "source": [
    "# train\n",
    "opts = load_opts(\"/home/mila/o/oussama.boussif/deepkoopman/config/defaults.yaml\",  \"rbenard\", \"/home/mila/o/oussama.boussif/deepkoopman/config/tasks/rbenard.yaml\")\n",
    "opts.output_path = make_output_dir(opts.output_path, dev=False)\n",
    "trainer = Trainer(opts)\n",
    "trainer.setup()\n",
    "trainer.train()"
   ]
  },
  {
   "cell_type": "code",
   "execution_count": null,
   "metadata": {},
   "outputs": [],
   "source": []
  }
 ],
 "metadata": {
  "kernelspec": {
   "display_name": "dedalus",
   "language": "python",
   "name": "dedalus"
  }
 },
 "nbformat": 4,
 "nbformat_minor": 2
}
